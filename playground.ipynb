{
 "cells": [
  {
   "attachments": {},
   "cell_type": "markdown",
   "id": "20c7e340",
   "metadata": {},
   "source": [
    "如果要加入新資料\n",
    "1. NewDataLoader(BasicLoader)\n",
    "2. LoaderMapping新增欄位\n",
    "3. .yml新增欄位"
   ]
  },
  {
   "cell_type": "code",
   "execution_count": 1,
   "id": "04e81d27",
   "metadata": {},
   "outputs": [
    {
     "name": "stderr",
     "output_type": "stream",
     "text": [
      "/home/handsomedong/miniconda3/envs/deepQPF_research/lib/python3.8/site-packages/tqdm/auto.py:21: TqdmWarning: IProgress not found. Please update jupyter and ipywidgets. See https://ipywidgets.readthedocs.io/en/stable/user_install.html\n",
      "  from .autonotebook import tqdm as notebook_tqdm\n"
     ]
    },
    {
     "name": "stdout",
     "output_type": "stream",
     "text": [
      "Python version 3.8.16 (default, Mar  2 2023, 03:21:46) \n",
      "[GCC 11.2.0]\n",
      "CUDA_HOME /usr/local/cuda\n",
      "CudaToolKit Version 11.1\n",
      "Cudnn Version 8005\n",
      "torch Version 1.10.0+cu111\n",
      "torchvision Version 0.11.0+cu111\n"
     ]
    }
   ],
   "source": [
    "### reload magic\n",
    "%reload_ext autoreload\n",
    "%autoreload 2\n",
    "\n",
    "import os\n",
    "import sys\n",
    "import yaml\n",
    "import argparse\n",
    "import torch\n",
    "import torchvision\n",
    "import torch.utils.cpp_extension\n",
    "\n",
    "from pytorch_lightning import Trainer\n",
    "from pytorch_lightning.loggers import TensorBoardLogger\n",
    "from pytorch_lightning.callbacks.early_stopping import EarlyStopping\n",
    "\n",
    "from src.data_manager import DataManager\n",
    "from src.model_builder import ModelBuilder\n",
    "\n",
    "# os.environ['CUDA_VISIBLE_DEVICES']=\"0\"\n",
    "print('Python version', sys.version)\n",
    "print('CUDA_HOME', torch.utils.cpp_extension.CUDA_HOME)\n",
    "print('CudaToolKit Version', torch.version.cuda)\n",
    "print('Cudnn Version', torch.backends.cudnn.version())\n",
    "print('torch Version', torch.__version__)\n",
    "print('torchvision Version', torchvision.__version__)\n",
    "\n",
    "config_file = './exp_config/exp1.yml'\n",
    "with open(config_file, \"r\") as content:\n",
    "    config = yaml.safe_load(content)"
   ]
  },
  {
   "cell_type": "code",
   "execution_count": 2,
   "id": "7faa9d7d",
   "metadata": {},
   "outputs": [
    {
     "name": "stderr",
     "output_type": "stream",
     "text": [
      "100%|██████████| 366595/366595 [00:02<00:00, 141368.68it/s]\n"
     ]
    },
    {
     "name": "stdout",
     "output_type": "stream",
     "text": [
      "RainLoader  instantiated.\n"
     ]
    },
    {
     "name": "stderr",
     "output_type": "stream",
     "text": [
      "100%|██████████| 366871/366871 [00:02<00:00, 150988.31it/s]\n"
     ]
    },
    {
     "name": "stdout",
     "output_type": "stream",
     "text": [
      "RadarLoader  instantiated.\n",
      "[DataManager] Training Data Size: 214224; Validating Data Size: 71408; Testing Data Size: 71409\n"
     ]
    }
   ],
   "source": [
    "dm = DataManager(\n",
    "    data_meta_info=config['train_config']['data_meta_info'], \n",
    "    **config['train_config']['data_loader_params']\n",
    ")"
   ]
  },
  {
   "cell_type": "code",
   "execution_count": 3,
   "id": "59fed1e0",
   "metadata": {},
   "outputs": [
    {
     "name": "stdout",
     "output_type": "stream",
     "text": [
      "Using BalancedGRUAdvPONI model\n",
      "[Forecaster_PONI] TargetLen:3 TeacherForcing:0.5\n",
      "[EncoderParams] channel_count:2 Shape:(120, 120)\n",
      "[Discriminator] Downsample:3\n",
      "[BalAdvPoniModel W:0.01] Ckp:/wk171/handsomedong/deepQPF_research/checkpoint/ \n"
     ]
    }
   ],
   "source": [
    "### the followings are lagecy code\n",
    "model = ModelBuilder(\n",
    "    **config['model'],\n",
    "    data_info = dm.get_data_info()\n",
    ").build()"
   ]
  },
  {
   "cell_type": "code",
   "execution_count": null,
   "id": "818e973a",
   "metadata": {},
   "outputs": [],
   "source": [
    "logger = TensorBoardLogger(save_dir='logs', name=config['model']['name'])\n",
    "checkpoint_callback = model.get_checkpoint_callback()\n",
    "trainer = Trainer(\n",
    "    benchmark=True,\n",
    "    accelerator='gpu',\n",
    "    devices=[1],\n",
    "    max_epochs=50, \n",
    "    fast_dev_run=False, \n",
    "    logger=logger,\n",
    "    check_val_every_n_epoch=1,\n",
    "    callbacks=[checkpoint_callback, EarlyStopping(monitor=\"val_loss\", patience=5)],\n",
    ")\n",
    "trainer.fit(model, dm)"
   ]
  }
 ],
 "metadata": {
  "kernelspec": {
   "display_name": "dlra_kernel",
   "language": "python",
   "name": "python3"
  },
  "language_info": {
   "codemirror_mode": {
    "name": "ipython",
    "version": 3
   },
   "file_extension": ".py",
   "mimetype": "text/x-python",
   "name": "python",
   "nbconvert_exporter": "python",
   "pygments_lexer": "ipython3",
   "version": "3.8.16"
  },
  "vscode": {
   "interpreter": {
    "hash": "a2f804bfec06f53216ee7b06b06133345248b8b48c2d184ed52a2723fca76428"
   }
  }
 },
 "nbformat": 4,
 "nbformat_minor": 5
}
