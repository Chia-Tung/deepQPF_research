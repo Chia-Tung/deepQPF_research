{
 "cells": [
  {
   "attachments": {},
   "cell_type": "markdown",
   "id": "20c7e340",
   "metadata": {},
   "source": [
    "如果要加入新資料\n",
    "1. NewDataLoader(BasicLoader)\n",
    "2. LoaderMapping新增欄位\n",
    "3. .yml新增欄位"
   ]
  },
  {
   "cell_type": "code",
   "execution_count": 1,
   "id": "04e81d27",
   "metadata": {},
   "outputs": [
    {
     "data": {
      "text/html": [
       "<style type='text/css'>\n",
       ".datatable table.frame { margin-bottom: 0; }\n",
       ".datatable table.frame thead { border-bottom: none; }\n",
       ".datatable table.frame tr.coltypes td {  color: #FFFFFF;  line-height: 6px;  padding: 0 0.5em;}\n",
       ".datatable .bool    { background: #DDDD99; }\n",
       ".datatable .object  { background: #565656; }\n",
       ".datatable .int     { background: #5D9E5D; }\n",
       ".datatable .float   { background: #4040CC; }\n",
       ".datatable .str     { background: #CC4040; }\n",
       ".datatable .time    { background: #40CC40; }\n",
       ".datatable .row_index {  background: var(--jp-border-color3);  border-right: 1px solid var(--jp-border-color0);  color: var(--jp-ui-font-color3);  font-size: 9px;}\n",
       ".datatable .frame tbody td { text-align: left; }\n",
       ".datatable .frame tr.coltypes .row_index {  background: var(--jp-border-color0);}\n",
       ".datatable th:nth-child(2) { padding-left: 12px; }\n",
       ".datatable .hellipsis {  color: var(--jp-cell-editor-border-color);}\n",
       ".datatable .vellipsis {  background: var(--jp-layout-color0);  color: var(--jp-cell-editor-border-color);}\n",
       ".datatable .na {  color: var(--jp-cell-editor-border-color);  font-size: 80%;}\n",
       ".datatable .sp {  opacity: 0.25;}\n",
       ".datatable .footer { font-size: 9px; }\n",
       ".datatable .frame_dimensions {  background: var(--jp-border-color3);  border-top: 1px solid var(--jp-border-color0);  color: var(--jp-ui-font-color3);  display: inline-block;  opacity: 0.6;  padding: 1px 10px 1px 5px;}\n",
       "</style>\n"
      ],
      "text/plain": [
       "<IPython.core.display.HTML object>"
      ]
     },
     "metadata": {},
     "output_type": "display_data"
    },
    {
     "name": "stdout",
     "output_type": "stream",
     "text": [
      "Python version 3.10.11 (main, May 16 2023, 00:28:57) [GCC 11.2.0]\n",
      "CUDA_HOME /usr/local/cuda\n",
      "CudaToolKit Version 11.8\n",
      "Cudnn Version 8700\n",
      "torch Version 2.0.0+cu118\n",
      "torchvision Version 0.15.1+cu118\n"
     ]
    }
   ],
   "source": [
    "### reload magic\n",
    "%reload_ext autoreload\n",
    "%autoreload 2\n",
    "\n",
    "import sys\n",
    "import yaml\n",
    "import torch\n",
    "import torchvision\n",
    "import torch.utils.cpp_extension\n",
    "\n",
    "from pytorch_lightning import Trainer\n",
    "from pytorch_lightning.loggers import TensorBoardLogger\n",
    "from pytorch_lightning.callbacks.early_stopping import EarlyStopping\n",
    "\n",
    "from src.data_manager import DataManager\n",
    "from src.model_director import ModelDirector\n",
    "\n",
    "# os.environ['CUDA_VISIBLE_DEVICES']=\"0\"\n",
    "print('Python version', sys.version)\n",
    "print('CUDA_HOME', torch.utils.cpp_extension.CUDA_HOME)\n",
    "print('CudaToolKit Version', torch.version.cuda)\n",
    "print('Cudnn Version', torch.backends.cudnn.version())\n",
    "print('torch Version', torch.__version__)\n",
    "print('torchvision Version', torchvision.__version__)\n",
    "\n",
    "config_file = './exp_config/exp1.yml'\n",
    "with open(config_file, \"r\") as content:\n",
    "    config = yaml.safe_load(content) "
   ]
  },
  {
   "cell_type": "code",
   "execution_count": 2,
   "id": "7faa9d7d",
   "metadata": {},
   "outputs": [
    {
     "name": "stderr",
     "output_type": "stream",
     "text": [
      "100%|██████████| 362024/362024 [00:02<00:00, 158253.55it/s]\n"
     ]
    },
    {
     "name": "stdout",
     "output_type": "stream",
     "text": [
      "RainLoaderJay  instantiated.\n"
     ]
    },
    {
     "name": "stderr",
     "output_type": "stream",
     "text": [
      "100%|██████████| 366871/366871 [00:02<00:00, 148398.61it/s]\n"
     ]
    },
    {
     "name": "stdout",
     "output_type": "stream",
     "text": [
      "RadarLoaderJay  instantiated.\n",
      "[DataManager] Training Data Size: 30978; Validating Data Size: 10326; Testing Data Size: 10326\n"
     ]
    }
   ],
   "source": [
    "dm = DataManager(\n",
    "    data_meta_info=config['train_config']['data_meta_info'], \n",
    "    **config['train_config']['data_loader_params']\n",
    ")"
   ]
  },
  {
   "cell_type": "code",
   "execution_count": 6,
   "id": "59fed1e0",
   "metadata": {},
   "outputs": [
    {
     "name": "stdout",
     "output_type": "stream",
     "text": [
      "[EncoderParams] channel_count:2 Shape:(120, 120)\n",
      "[EncoderParams_Poni] channel_count: 1\n",
      "[ForecasterPONI] TargetLen:3 TeacherForcing:0.5\n",
      "Using CPN_PONI model\n",
      "[Discriminator] Downsample:3\n",
      "[GANFramework Disc_Weight:0.01] Ckp:/wk171/handsomedong/deepQPF_research/checkpoint/\n"
     ]
    }
   ],
   "source": [
    "model = ModelDirector(\n",
    "    data_info = dm.get_data_info(),\n",
    "    **config['model'],\n",
    ").build_model()"
   ]
  },
  {
   "cell_type": "code",
   "execution_count": null,
   "id": "818e973a",
   "metadata": {},
   "outputs": [],
   "source": [
    "logger = TensorBoardLogger(save_dir='logs', name=config['model']['name'])\n",
    "checkpoint_callback = model.get_checkpoint_callback()\n",
    "trainer = Trainer(\n",
    "    benchmark=True,\n",
    "    accelerator='gpu',\n",
    "    devices=[0],\n",
    "    max_epochs=50, \n",
    "    fast_dev_run=False, \n",
    "    logger=logger,\n",
    "    check_val_every_n_epoch=1,\n",
    "    callbacks=[checkpoint_callback, EarlyStopping(monitor=\"val_loss\", patience=5)],\n",
    ")\n",
    "trainer.fit(model, dm)"
   ]
  }
 ],
 "metadata": {
  "kernelspec": {
   "display_name": "dlra_kernel",
   "language": "python",
   "name": "python3"
  },
  "language_info": {
   "codemirror_mode": {
    "name": "ipython",
    "version": 3
   },
   "file_extension": ".py",
   "mimetype": "text/x-python",
   "name": "python",
   "nbconvert_exporter": "python",
   "pygments_lexer": "ipython3",
   "version": "3.10.11"
  },
  "vscode": {
   "interpreter": {
    "hash": "a2f804bfec06f53216ee7b06b06133345248b8b48c2d184ed52a2723fca76428"
   }
  }
 },
 "nbformat": 4,
 "nbformat_minor": 5
}
