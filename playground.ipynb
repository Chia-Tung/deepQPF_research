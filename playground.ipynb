{
 "cells": [
  {
   "attachments": {},
   "cell_type": "markdown",
   "id": "20c7e340",
   "metadata": {},
   "source": [
    "如果要加入新資料\n",
    "1. NewDataLoader(BasicLoader)\n",
    "2. LoaderMapping新增欄位\n",
    "3. .yml新增欄位"
   ]
  },
  {
   "cell_type": "code",
   "execution_count": 1,
   "id": "04e81d27",
   "metadata": {},
   "outputs": [
    {
     "data": {
      "text/html": [
       "<style type='text/css'>\n",
       ".datatable table.frame { margin-bottom: 0; }\n",
       ".datatable table.frame thead { border-bottom: none; }\n",
       ".datatable table.frame tr.coltypes td {  color: #FFFFFF;  line-height: 6px;  padding: 0 0.5em;}\n",
       ".datatable .bool    { background: #DDDD99; }\n",
       ".datatable .object  { background: #565656; }\n",
       ".datatable .int     { background: #5D9E5D; }\n",
       ".datatable .float   { background: #4040CC; }\n",
       ".datatable .str     { background: #CC4040; }\n",
       ".datatable .time    { background: #40CC40; }\n",
       ".datatable .row_index {  background: var(--jp-border-color3);  border-right: 1px solid var(--jp-border-color0);  color: var(--jp-ui-font-color3);  font-size: 9px;}\n",
       ".datatable .frame tbody td { text-align: left; }\n",
       ".datatable .frame tr.coltypes .row_index {  background: var(--jp-border-color0);}\n",
       ".datatable th:nth-child(2) { padding-left: 12px; }\n",
       ".datatable .hellipsis {  color: var(--jp-cell-editor-border-color);}\n",
       ".datatable .vellipsis {  background: var(--jp-layout-color0);  color: var(--jp-cell-editor-border-color);}\n",
       ".datatable .na {  color: var(--jp-cell-editor-border-color);  font-size: 80%;}\n",
       ".datatable .sp {  opacity: 0.25;}\n",
       ".datatable .footer { font-size: 9px; }\n",
       ".datatable .frame_dimensions {  background: var(--jp-border-color3);  border-top: 1px solid var(--jp-border-color0);  color: var(--jp-ui-font-color3);  display: inline-block;  opacity: 0.6;  padding: 1px 10px 1px 5px;}\n",
       "</style>\n"
      ],
      "text/plain": [
       "<IPython.core.display.HTML object>"
      ]
     },
     "metadata": {},
     "output_type": "display_data"
    },
    {
     "name": "stdout",
     "output_type": "stream",
     "text": [
      "Python version 3.10.11 (main, May 16 2023, 00:28:57) [GCC 11.2.0]\n",
      "CUDA_HOME /usr/local/cuda\n",
      "CudaToolKit Version 11.8\n",
      "Cudnn Version 8700\n",
      "torch Version 2.0.0+cu118\n",
      "torchvision Version 0.15.1+cu118\n"
     ]
    }
   ],
   "source": [
    "### reload magic\n",
    "%reload_ext autoreload\n",
    "%autoreload 2\n",
    "\n",
    "import sys\n",
    "import yaml\n",
    "import torch\n",
    "import torchvision\n",
    "import torch.utils.cpp_extension\n",
    "\n",
    "from pytorch_lightning import Trainer\n",
    "from pytorch_lightning.loggers import TensorBoardLogger\n",
    "from pytorch_lightning.callbacks import EarlyStopping, DeviceStatsMonitor\n",
    "\n",
    "from src.data_manager import DataManager\n",
    "from src.model_director import ModelDirector\n",
    "\n",
    "# os.environ['CUDA_VISIBLE_DEVICES']=\"0\"\n",
    "print('Python version', sys.version)\n",
    "print('CUDA_HOME', torch.utils.cpp_extension.CUDA_HOME)\n",
    "print('CudaToolKit Version', torch.version.cuda)\n",
    "print('Cudnn Version', torch.backends.cudnn.version())\n",
    "print('torch Version', torch.__version__)\n",
    "print('torchvision Version', torchvision.__version__)\n",
    "\n",
    "config_file = './exp_config/exp2.yml'\n",
    "with open(config_file, \"r\") as content:\n",
    "    config = yaml.safe_load(content) "
   ]
  },
  {
   "cell_type": "code",
   "execution_count": 2,
   "id": "7faa9d7d",
   "metadata": {},
   "outputs": [
    {
     "name": "stderr",
     "output_type": "stream",
     "text": [
      "100%|██████████| 362024/362024 [00:02<00:00, 157964.65it/s]\n"
     ]
    },
    {
     "name": "stdout",
     "output_type": "stream",
     "text": [
      "RainLoaderJay: time list is loaded.\n"
     ]
    },
    {
     "name": "stderr",
     "output_type": "stream",
     "text": [
      "100%|██████████| 366871/366871 [00:02<00:00, 150490.14it/s]\n"
     ]
    },
    {
     "name": "stdout",
     "output_type": "stream",
     "text": [
      "RadarLoaderJay: time list is loaded.\n",
      "[DataManager] Training Data Size: 10192, Validating Data Size: 3396, Testing Data Size: 3396 \n",
      "[DataManager] Image Shape: (540, 420), Batch Size: 8, Sampling Rate: 3\n"
     ]
    }
   ],
   "source": [
    "dm = DataManager(\n",
    "    data_meta_info=config['train_config']['data_meta_info'], \n",
    "    **config['train_config']['data_loader_params']\n",
    ")"
   ]
  },
  {
   "cell_type": "code",
   "execution_count": 3,
   "id": "59fed1e0",
   "metadata": {},
   "outputs": [
    {
     "name": "stdout",
     "output_type": "stream",
     "text": [
      "[EncoderParams] channel_count:2 Shape:(540, 420)\n",
      "[ForecasterPONI] TargetLen:3 TeacherForcing:0.5\n",
      "[Discriminator] Downsample:5\n",
      "[ModelDirector] Using CPN_PONI model\n"
     ]
    }
   ],
   "source": [
    "model = ModelDirector(\n",
    "    data_info = dm.get_data_info(),\n",
    "    **config['model'],\n",
    ").build_model()"
   ]
  },
  {
   "cell_type": "code",
   "execution_count": 4,
   "id": "818e973a",
   "metadata": {},
   "outputs": [
    {
     "name": "stderr",
     "output_type": "stream",
     "text": [
      "GPU available: True (cuda), used: True\n",
      "TPU available: False, using: 0 TPU cores\n",
      "IPU available: False, using: 0 IPUs\n",
      "HPU available: False, using: 0 HPUs\n",
      "You are using a CUDA device ('GeForce RTX 3080') that has Tensor Cores. To properly utilize them, you should set `torch.set_float32_matmul_precision('medium' | 'high')` which will trade-off precision for performance. For more details, read https://pytorch.org/docs/stable/generated/torch.set_float32_matmul_precision.html#torch.set_float32_matmul_precision\n",
      "LOCAL_RANK: 0 - CUDA_VISIBLE_DEVICES: [0,1]\n",
      "\n",
      "  | Name          | Type            | Params\n",
      "--------------------------------------------------\n",
      "0 | encoder       | Encoder         | 3.7 M \n",
      "1 | forecaster    | ForecasterPONI  | 3.9 M \n",
      "2 | discriminator | Discriminator   | 1.2 M \n",
      "3 | loss_fn       | WeightedMaeLoss | 0     \n",
      "4 | dis_loss_fn   | BCELoss         | 0     \n",
      "--------------------------------------------------\n",
      "8.7 M     Trainable params\n",
      "0         Non-trainable params\n",
      "8.7 M     Total params\n",
      "34.907    Total estimated model params size (MB)\n"
     ]
    },
    {
     "name": "stdout",
     "output_type": "stream",
     "text": [
      "                                                                           \r"
     ]
    },
    {
     "name": "stderr",
     "output_type": "stream",
     "text": [
      "/wk171/handsomedong/deepQPF_research/src/utils/performance_diagram.py:192: RuntimeWarning: Mean of empty slice.\n",
      "  return np.array(arr)[mask].mean()\n",
      "/home/handsomedong/miniconda3/envs/deepQPF_research/lib/python3.10/site-packages/numpy/core/_methods.py:192: RuntimeWarning: invalid value encountered in scalar divide\n",
      "  ret = ret.dtype.type(ret / rcount)\n",
      "/wk171/handsomedong/deepQPF_research/src/utils/performance_diagram.py:187: RuntimeWarning: invalid value encountered in scalar divide\n",
      "  output.append(2 * pd * sr / (pd + sr))\n"
     ]
    },
    {
     "name": "stdout",
     "output_type": "stream",
     "text": [
      "Epoch 0: 100%|██████████| 1274/1274 [10:45<00:00,  1.97it/s, v_num=16, loss_P_step=1.640, loss_GD_step=3.960, loss_G_step=1.660, loss_D_step=0.0044, loss_P_epoch=1.770, loss_GD_epoch=4.160, loss_G_epoch=1.790, loss_D_epoch=0.00702]"
     ]
    },
    {
     "name": "stderr",
     "output_type": "stream",
     "text": [
      "Epoch 0, global step 2548: 'val_loss' reached 1.76830 (best 1.76830), saving model to '/wk171/handsomedong/deepQPF_research/checkpoint/epoch=0_val_loss=1.768301.ckpt' as top 1\n"
     ]
    },
    {
     "name": "stdout",
     "output_type": "stream",
     "text": [
      "Epoch 1: 100%|██████████| 1274/1274 [03:56<00:00,  5.38it/s, v_num=16, loss_P_step=1.370, loss_GD_step=4.900, loss_G_step=1.410, loss_D_step=0.00251, loss_P_epoch=1.430, loss_GD_epoch=4.400, loss_G_epoch=1.460, loss_D_epoch=0.00284]"
     ]
    },
    {
     "name": "stderr",
     "output_type": "stream",
     "text": [
      "Epoch 1, global step 5096: 'val_loss' reached 1.72680 (best 1.72680), saving model to '/wk171/handsomedong/deepQPF_research/checkpoint/epoch=1_val_loss=1.726796.ckpt' as top 1\n",
      "`Trainer.fit` stopped: `max_epochs=2` reached.\n"
     ]
    },
    {
     "name": "stdout",
     "output_type": "stream",
     "text": [
      "Epoch 1: 100%|██████████| 1274/1274 [03:57<00:00,  5.37it/s, v_num=16, loss_P_step=1.370, loss_GD_step=4.900, loss_G_step=1.410, loss_D_step=0.00251, loss_P_epoch=1.430, loss_GD_epoch=4.400, loss_G_epoch=1.460, loss_D_epoch=0.00284]\n"
     ]
    }
   ],
   "source": [
    "logger = TensorBoardLogger(save_dir='logs', name=config['model']['model_config']['name'])\n",
    "checkpoint_callback = model.get_checkpoint_callback()\n",
    "trainer = Trainer(\n",
    "    benchmark=True,\n",
    "    accelerator='gpu',\n",
    "    devices=[0],\n",
    "    fast_dev_run=False, # True: debug and compile once \n",
    "    logger=logger,\n",
    "    check_val_every_n_epoch=1,\n",
    "    max_epochs=2, \n",
    "    callbacks=[\n",
    "        DeviceStatsMonitor(cpu_stats=True),\n",
    "        EarlyStopping(monitor=\"val_loss\", patience=5), \n",
    "        checkpoint_callback\n",
    "    ]\n",
    ")\n",
    "trainer.fit(model, dm)"
   ]
  }
 ],
 "metadata": {
  "kernelspec": {
   "display_name": "dlra_kernel",
   "language": "python",
   "name": "python3"
  },
  "language_info": {
   "codemirror_mode": {
    "name": "ipython",
    "version": 3
   },
   "file_extension": ".py",
   "mimetype": "text/x-python",
   "name": "python",
   "nbconvert_exporter": "python",
   "pygments_lexer": "ipython3",
   "version": "3.10.11"
  },
  "vscode": {
   "interpreter": {
    "hash": "a2f804bfec06f53216ee7b06b06133345248b8b48c2d184ed52a2723fca76428"
   }
  }
 },
 "nbformat": 4,
 "nbformat_minor": 5
}
